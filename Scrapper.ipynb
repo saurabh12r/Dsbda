{
 "cells": [
  {
   "cell_type": "code",
   "execution_count": 28,
   "id": "b6d77d20-9128-49ae-bf5a-2cc43c4fc870",
   "metadata": {},
   "outputs": [],
   "source": [
    "from requests import get\n",
    "from bs4 import BeautifulSoup"
   ]
  },
  {
   "cell_type": "code",
   "execution_count": 29,
   "id": "9e690e78-669d-49af-973d-29f176fc9686",
   "metadata": {},
   "outputs": [
    {
     "data": {
      "text/plain": [
       "'https://www.flipkart.com/search?q=tv%20&otracker=search&otracker1=search&marketplace=FLIPKART&as-show=on&as=off'"
      ]
     },
     "execution_count": 29,
     "metadata": {},
     "output_type": "execute_result"
    }
   ],
   "source": [
    "url=\"https://www.flipkart.com/search?q=tv%20&otracker=search&otracker1=search&marketplace=FLIPKART&as-show=on&as=off\"\n",
    "url"
   ]
  },
  {
   "cell_type": "code",
   "execution_count": 30,
   "id": "7fcd45d2-5e85-4853-9b60-acb038187730",
   "metadata": {},
   "outputs": [
    {
     "data": {
      "text/plain": [
       "<Response [200]>"
      ]
     },
     "execution_count": 30,
     "metadata": {},
     "output_type": "execute_result"
    }
   ],
   "source": [
    "response=get(url)\n",
    "response"
   ]
  },
  {
   "cell_type": "code",
   "execution_count": 31,
   "id": "af949f30-45ba-4773-b4ba-196b540a626d",
   "metadata": {},
   "outputs": [],
   "source": [
    "soup=BeautifulSoup(response.text,'lxml')"
   ]
  },
  {
   "cell_type": "code",
   "execution_count": 32,
   "id": "e11123cb-2855-4812-a245-a56e9b413fff",
   "metadata": {},
   "outputs": [
    {
     "data": {
      "text/plain": [
       "24"
      ]
     },
     "execution_count": 32,
     "metadata": {},
     "output_type": "execute_result"
    }
   ],
   "source": [
    "master_container=soup.find_all('div',{'class':'_75nlfW'})\n",
    "len(master_container)"
   ]
  },
  {
   "cell_type": "code",
   "execution_count": 33,
   "id": "1013e7e5-84c1-4eef-997e-44cffef03045",
   "metadata": {},
   "outputs": [],
   "source": [
    "name=[]\n",
    "ratings=[]\n",
    "price=[]"
   ]
  },
  {
   "cell_type": "code",
   "execution_count": 37,
   "id": "a6873a4f-87ca-4a25-b9fd-58464da812e2",
   "metadata": {},
   "outputs": [],
   "source": [
    "for i in range(len(master_container)):\n",
    "    name.append(master_container[i].find('div',{'class':'KzDlHZ'}).text)\n",
    "    try:\n",
    "        ratings.append(master_container[i].find('div',{'class':'XQDdHH'}).text)\n",
    "    except:\n",
    "        ratings.append(None)\n",
    "    price.append(master_container[i].find('div',{'class':'Nx9bqj _4b5DiR'}).text)"
   ]
  },
  {
   "cell_type": "code",
   "execution_count": 38,
   "id": "162e5d87-5a59-44c4-9427-74b90457a7a4",
   "metadata": {},
   "outputs": [],
   "source": [
    "import pandas as pd"
   ]
  },
  {
   "cell_type": "code",
   "execution_count": 39,
   "id": "e6fb5ac1-1581-47e2-9994-faf882df3af9",
   "metadata": {},
   "outputs": [
    {
     "name": "stdout",
     "output_type": "stream",
     "text": [
      "                                                 Name Ratings    Price\n",
      "0   realme TechLife CineSonic 80 cm (32 Inch) QLED...    None   ₹9,999\n",
      "1   iFFALCON by TCL U64 126 cm (50 inch) Ultra HD ...    None  ₹22,999\n",
      "2   MarQ by Flipkart 60 cm (24 inch) HD Ready LED ...    None   ₹5,499\n",
      "3   realme TechLife CineSonic Q 80 cm (32 inch) QL...    None  ₹10,499\n",
      "4   iFFALCON by TCL S44 79.97 cm (32 inch) HD Read...    None   ₹7,999\n",
      "5    MarQ by Flipkart 60 cm (24 inch) HD Ready LED TV    None   ₹4,989\n",
      "6   Mi by Xiaomi X Series 138 cm (55 inch) Ultra H...    None  ₹37,999\n",
      "7   iFFALCON by TCL U62 139 cm (55 inch) Ultra HD ...    None  ₹22,999\n",
      "8   Infinix 80 cm (32 inch) HD Ready LED Smart Lin...    None   ₹8,499\n",
      "9   Thomson FA Series 100 cm (40 inch) Full HD LED...    None  ₹14,999\n",
      "10  Thomson OP MAX 126 cm (50 inch) Ultra HD (4K) ...    None  ₹23,999\n",
      "11  realme TechLife CineSonic Q 109 cm (43 inch) Q...    None  ₹20,999\n",
      "12  Thomson Alpha QLED 60 cm (24 inch) QLED HD Rea...    None   ₹6,799\n",
      "13  acerpure Aspire TV by Acer (2024 Series) 108 c...    None  ₹16,999\n",
      "14  CANDY 109 cm (43 inch) Ultra HD (4K) LED Smart...    None  ₹14,999\n",
      "15  Coocaa 108 cm (43 inch) Full HD LED Smart Cool...    None  ₹12,999\n",
      "16  iFFALCON by TCL U64 139 cm (55 inch) Ultra HD ...    None  ₹25,999\n",
      "17  iFFALCON by TCL U64 108 cm (43 inch) Ultra HD ...    None  ₹18,499\n",
      "18  acerpure by Acer Elevate Tv 108 cm (43 inch) Q...    None  ₹19,999\n",
      "19  realme TechLife CineSonic 109 cm (43 inch) Ult...    None  ₹19,999\n",
      "20  Mi by Xiaomi A Series 80 cm (32 inch) HD Ready...    None  ₹13,490\n",
      "21  Coocaa 80 cm (32 inch) HD Ready LED Smart Cool...    None   ₹7,999\n",
      "22  Mi by Xiaomi X Series 125 cm (50 inch) Ultra H...    None  ₹29,999\n",
      "23  Thomson FA Series 106 cm (42 inch) Full HD LED...    None  ₹15,999\n",
      "24  realme TechLife CineSonic 80 cm (32 Inch) QLED...     4.2   ₹9,999\n",
      "25  iFFALCON by TCL U64 126 cm (50 inch) Ultra HD ...     4.2  ₹22,999\n",
      "26  MarQ by Flipkart 60 cm (24 inch) HD Ready LED ...     4.2   ₹5,499\n",
      "27  realme TechLife CineSonic Q 80 cm (32 inch) QL...     4.2  ₹10,499\n",
      "28  iFFALCON by TCL S44 79.97 cm (32 inch) HD Read...     4.2   ₹7,999\n",
      "29   MarQ by Flipkart 60 cm (24 inch) HD Ready LED TV     4.1   ₹4,989\n",
      "30  Mi by Xiaomi X Series 138 cm (55 inch) Ultra H...     4.3  ₹37,999\n",
      "31  iFFALCON by TCL U62 139 cm (55 inch) Ultra HD ...     4.2  ₹22,999\n",
      "32  Infinix 80 cm (32 inch) HD Ready LED Smart Lin...     4.2   ₹8,499\n",
      "33  Thomson FA Series 100 cm (40 inch) Full HD LED...     4.3  ₹14,999\n",
      "34  Thomson OP MAX 126 cm (50 inch) Ultra HD (4K) ...     4.5  ₹23,999\n",
      "35  realme TechLife CineSonic Q 109 cm (43 inch) Q...     4.3  ₹20,999\n",
      "36  Thomson Alpha QLED 60 cm (24 inch) QLED HD Rea...       4   ₹6,799\n",
      "37  acerpure Aspire TV by Acer (2024 Series) 108 c...     4.2  ₹16,999\n",
      "38  CANDY 109 cm (43 inch) Ultra HD (4K) LED Smart...     4.5  ₹14,999\n",
      "39  Coocaa 108 cm (43 inch) Full HD LED Smart Cool...     4.2  ₹12,999\n",
      "40  iFFALCON by TCL U64 139 cm (55 inch) Ultra HD ...     4.2  ₹25,999\n",
      "41  iFFALCON by TCL U64 108 cm (43 inch) Ultra HD ...     4.2  ₹18,499\n",
      "42  acerpure by Acer Elevate Tv 108 cm (43 inch) Q...     4.2  ₹19,999\n",
      "43  realme TechLife CineSonic 109 cm (43 inch) Ult...     4.3  ₹19,999\n",
      "44  Mi by Xiaomi A Series 80 cm (32 inch) HD Ready...     4.3  ₹13,490\n",
      "45  Coocaa 80 cm (32 inch) HD Ready LED Smart Cool...     4.2   ₹7,999\n",
      "46  Mi by Xiaomi X Series 125 cm (50 inch) Ultra H...     4.3  ₹29,999\n",
      "47  Thomson FA Series 106 cm (42 inch) Full HD LED...     4.3  ₹15,999\n"
     ]
    }
   ],
   "source": [
    "# data={'Name':name,'Ratings':ratings,'Price':price}\n",
    "# df=pd.DataFrame(data)\n",
    "# df\n",
    "data = pd.DataFrame({\n",
    "    'Name':name,'Ratings':ratings,'Price':price\n",
    "})\n",
    "print(data)\n"
   ]
  },
  {
   "cell_type": "code",
   "execution_count": null,
   "id": "b2ecfa38-c1b6-4e9d-998e-b256441e3499",
   "metadata": {},
   "outputs": [],
   "source": []
  },
  {
   "cell_type": "code",
   "execution_count": null,
   "id": "13444b53-9060-47eb-bc00-757745a543d5",
   "metadata": {},
   "outputs": [],
   "source": []
  },
  {
   "cell_type": "code",
   "execution_count": null,
   "id": "9250228f-9f1e-4b77-b612-0c2c653bfc25",
   "metadata": {},
   "outputs": [],
   "source": []
  },
  {
   "cell_type": "code",
   "execution_count": null,
   "id": "29772080-642a-4c8f-a422-53a404f41593",
   "metadata": {},
   "outputs": [],
   "source": []
  }
 ],
 "metadata": {
  "kernelspec": {
   "display_name": "Python 3 (ipykernel)",
   "language": "python",
   "name": "python3"
  },
  "language_info": {
   "codemirror_mode": {
    "name": "ipython",
    "version": 3
   },
   "file_extension": ".py",
   "mimetype": "text/x-python",
   "name": "python",
   "nbconvert_exporter": "python",
   "pygments_lexer": "ipython3",
   "version": "3.12.6"
  }
 },
 "nbformat": 4,
 "nbformat_minor": 5
}
