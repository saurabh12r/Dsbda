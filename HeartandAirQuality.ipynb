{
 "cells": [
  {
   "cell_type": "code",
   "execution_count": 160,
   "id": "d908a3e7",
   "metadata": {},
   "outputs": [],
   "source": [
    "import pandas as pd\n",
    "import numpy as np\n",
    "from sklearn.preprocessing import StandardScaler, LabelEncoder\n",
    "from sklearn.model_selection import train_test_split\n",
    "from sklearn.ensemble import RandomForestRegressor\n",
    "from sklearn.metrics import mean_squared_error, r2_score"
   ]
  },
  {
   "cell_type": "markdown",
   "id": "93e3182a",
   "metadata": {},
   "source": [
    "#### a. Data cleaning\n"
   ]
  },
  {
   "cell_type": "code",
   "execution_count": null,
   "id": "658c30f2",
   "metadata": {},
   "outputs": [],
   "source": [
    "air_df = pd.read_csv(\"AirQuality.csv\")\n",
    "air_df.head()"
   ]
  },
  {
   "cell_type": "code",
   "execution_count": null,
   "id": "42c7c150",
   "metadata": {},
   "outputs": [],
   "source": [
    "air_df.info()"
   ]
  },
  {
   "cell_type": "code",
   "execution_count": null,
   "id": "df1a6514",
   "metadata": {},
   "outputs": [],
   "source": [
    "air_df.shape"
   ]
  },
  {
   "cell_type": "code",
   "execution_count": null,
   "id": "828e364a",
   "metadata": {},
   "outputs": [],
   "source": [
    "heart_df = pd.read_csv(\"heartdisease.csv\")\n",
    "heart_df.head()"
   ]
  },
  {
   "cell_type": "code",
   "execution_count": null,
   "id": "d6ae200c",
   "metadata": {},
   "outputs": [],
   "source": [
    "heart_df.info()"
   ]
  },
  {
   "cell_type": "code",
   "execution_count": null,
   "id": "ac33e8d5",
   "metadata": {},
   "outputs": [],
   "source": [
    "heart_df.shape"
   ]
  },
  {
   "cell_type": "code",
   "execution_count": 168,
   "id": "4e4a4c73",
   "metadata": {},
   "outputs": [],
   "source": [
    "# Removing null values\n",
    "air_df.dropna(inplace=True)\n",
    "heart_df.dropna(inplace=True)"
   ]
  },
  {
   "cell_type": "code",
   "execution_count": 169,
   "id": "853bfaf6",
   "metadata": {},
   "outputs": [],
   "source": [
    "# Removing duplicates\n",
    "air_df.drop_duplicates(inplace=True)\n",
    "heart_df.drop_duplicates(inplace=True)"
   ]
  },
  {
   "cell_type": "code",
   "execution_count": null,
   "id": "dda6d7d9",
   "metadata": {},
   "outputs": [],
   "source": [
    "air_df.shape"
   ]
  },
  {
   "cell_type": "code",
   "execution_count": null,
   "id": "51d69ec4",
   "metadata": {},
   "outputs": [],
   "source": [
    "heart_df.shape"
   ]
  },
  {
   "cell_type": "code",
   "execution_count": null,
   "id": "98a19f5d",
   "metadata": {},
   "outputs": [],
   "source": [
    "# Checking for missing values\n",
    "air_df.isnull().sum()"
   ]
  },
  {
   "cell_type": "markdown",
   "id": "d8f8b2ba",
   "metadata": {},
   "source": []
  },
  {
   "cell_type": "code",
   "execution_count": null,
   "id": "b3e20040",
   "metadata": {},
   "outputs": [],
   "source": [
    "heart_df.isnull().sum()"
   ]
  },
  {
   "cell_type": "markdown",
   "id": "1502ddbe",
   "metadata": {},
   "source": [
    "#### b. Data Integration\n"
   ]
  },
  {
   "cell_type": "code",
   "execution_count": null,
   "id": "eba3c000",
   "metadata": {},
   "outputs": [],
   "source": [
    "# Create artificial IDs for integration purpose\n",
    "air_df['ID'] = range(1, len(air_df) + 1)\n",
    "heart_df['ID'] = range(1, len(heart_df) + 1)\n",
    "\n",
    "# Merge on the ID column (inner join for same size, or left/right based on use-case)\n",
    "integrated_df = pd.merge(air_df, heart_df, on='ID', how='inner')\n",
    "\n",
    "# Checking the result\n",
    "print(\"Integrated Dataset Shape:\", integrated_df.shape)\n",
    "integrated_df.head()"
   ]
  },
  {
   "cell_type": "markdown",
   "id": "25afc7d5",
   "metadata": {},
   "source": [
    "#### c. Data Transformation\n"
   ]
  },
  {
   "cell_type": "code",
   "execution_count": null,
   "id": "315cf52f",
   "metadata": {},
   "outputs": [],
   "source": [
    "# Check if any columns are still non-numeric\n",
    "non_numeric_cols = integrated_df.select_dtypes(exclude=['number']).columns\n",
    "print(\"Non-numeric columns:\", non_numeric_cols.tolist())\n"
   ]
  },
  {
   "cell_type": "code",
   "execution_count": 179,
   "id": "fdd06502",
   "metadata": {},
   "outputs": [],
   "source": [
    "# Step 1: Drop Date and Time\n",
    "if 'Date' in integrated_df.columns:\n",
    "    integrated_df.drop(columns=['Date'], inplace=True)\n",
    "if 'Time' in integrated_df.columns:\n",
    "    integrated_df.drop(columns=['Time'], inplace=True)"
   ]
  },
  {
   "cell_type": "code",
   "execution_count": 180,
   "id": "e5d460a5",
   "metadata": {},
   "outputs": [],
   "source": [
    "# Step 2: Encode 'ca' and 'thal'\n",
    "label_enc = LabelEncoder()\n",
    "for col in ['ca', 'thal']:\n",
    "    if col in integrated_df.columns:\n",
    "        integrated_df[col] = label_enc.fit_transform(integrated_df[col].astype(str))"
   ]
  },
  {
   "cell_type": "code",
   "execution_count": null,
   "id": "093360f1",
   "metadata": {},
   "outputs": [],
   "source": [
    "integrated_df.head()"
   ]
  },
  {
   "cell_type": "code",
   "execution_count": null,
   "id": "a0e6e6ca",
   "metadata": {},
   "outputs": [],
   "source": [
    "# Step 4: Re-scale\n",
    "scaler = StandardScaler()\n",
    "transformed_array = scaler.fit_transform(integrated_df)\n",
    "transformed_df = pd.DataFrame(transformed_array, columns=integrated_df.columns)\n",
    "\n",
    "transformed_df.head()"
   ]
  },
  {
   "cell_type": "code",
   "execution_count": null,
   "id": "b2cc256f",
   "metadata": {},
   "outputs": [],
   "source": [
    "transformed_df.info()"
   ]
  },
  {
   "cell_type": "markdown",
   "id": "c78c9186",
   "metadata": {},
   "source": [
    "#### d. Error Correcting\n"
   ]
  },
  {
   "cell_type": "code",
   "execution_count": null,
   "id": "8b86ae05",
   "metadata": {},
   "outputs": [],
   "source": [
    "# Step 1: Check for NaN or Infinite values\n",
    "print(\"NaNs in dataset:\", transformed_df.isnull().sum().sum())\n",
    "print(\"Infinite values:\", np.isinf(transformed_df).sum().sum())"
   ]
  },
  {
   "cell_type": "code",
   "execution_count": null,
   "id": "74bdc981",
   "metadata": {},
   "outputs": [],
   "source": [
    "# Step 2: Z-score outlier detection\n",
    "z_scores = np.abs((transformed_df - transformed_df.mean()) / transformed_df.std())\n",
    "outliers = (z_scores > 3).sum().sum()\n",
    "print(\"Total potential outlier values:\", outliers)"
   ]
  },
  {
   "cell_type": "code",
   "execution_count": 187,
   "id": "2b7dcc37",
   "metadata": {},
   "outputs": [],
   "source": [
    "transformed_df = transformed_df.clip(lower=-3, upper=3)"
   ]
  },
  {
   "cell_type": "code",
   "execution_count": null,
   "id": "b8424552",
   "metadata": {},
   "outputs": [],
   "source": [
    "# Reset index after corrections\n",
    "transformed_df.reset_index(drop=True, inplace=True)\n",
    "\n",
    "print(\"Error correction completed. Data is clean and model-ready.\")\n",
    "transformed_df.head()"
   ]
  },
  {
   "cell_type": "code",
   "execution_count": null,
   "id": "025ef6e8",
   "metadata": {},
   "outputs": [],
   "source": [
    "transformed_df.shape"
   ]
  },
  {
   "cell_type": "markdown",
   "id": "bd385863",
   "metadata": {},
   "source": [
    "#### e. Data Model Building\n"
   ]
  },
  {
   "cell_type": "code",
   "execution_count": 191,
   "id": "c35c60fe",
   "metadata": {},
   "outputs": [],
   "source": [
    "# Step 1: Features and Target\n",
    "X = transformed_df.iloc[:, :-1]\n",
    "y = transformed_df.iloc[:, -1]"
   ]
  },
  {
   "cell_type": "code",
   "execution_count": 192,
   "id": "a640ba94",
   "metadata": {},
   "outputs": [],
   "source": [
    "# Step 2: Train-Test Split\n",
    "X_train, X_test, y_train, y_test = train_test_split(X, y, test_size=0.2, random_state=42)"
   ]
  },
  {
   "cell_type": "code",
   "execution_count": null,
   "id": "cb3fa930",
   "metadata": {},
   "outputs": [],
   "source": [
    "X_train.shape, X_test.shape, y_train.shape, y_test.shape"
   ]
  },
  {
   "cell_type": "code",
   "execution_count": null,
   "id": "9b04acbd",
   "metadata": {},
   "outputs": [],
   "source": [
    "# Step 3: Initialize and Train Regressor\n",
    "model = RandomForestRegressor(random_state=42)\n",
    "model.fit(X_train, y_train)"
   ]
  },
  {
   "cell_type": "code",
   "execution_count": 195,
   "id": "7c9ad8c9",
   "metadata": {},
   "outputs": [],
   "source": [
    "# Step 4: Predict\n",
    "y_pred = model.predict(X_test)"
   ]
  },
  {
   "cell_type": "code",
   "execution_count": null,
   "id": "348d5221-9e5f-4a1a-af4d-ed18541a35dc",
   "metadata": {},
   "outputs": [],
   "source": [
    "# Step 5: Evaluation\n",
    "rmse = mean_squared_error(y_test, y_pred, squared=False)\n",
    "r2 = r2_score(y_test, y_pred)"
   ]
  },
  {
   "cell_type": "code",
   "execution_count": null,
   "id": "7ee2cd46",
   "metadata": {},
   "outputs": [],
   "source": [
    "print(\"✅ Model Evaluation (Regression):\")\n",
    "print(f\"RMSE: {rmse:.4f}\")\n",
    "print(f\"R² Score: {r2:.4f}\")"
   ]
  }
 ],
 "metadata": {
  "kernelspec": {
   "display_name": "Python 3 (ipykernel)",
   "language": "python",
   "name": "python3"
  },
  "language_info": {
   "codemirror_mode": {
    "name": "ipython",
    "version": 3
   },
   "file_extension": ".py",
   "mimetype": "text/x-python",
   "name": "python",
   "nbconvert_exporter": "python",
   "pygments_lexer": "ipython3",
   "version": "3.12.4"
  }
 },
 "nbformat": 4,
 "nbformat_minor": 5
}
