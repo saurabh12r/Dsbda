{
 "cells": [
  {
   "cell_type": "code",
   "execution_count": null,
   "id": "916f905c-7493-4c80-957b-85bc2af83ac5",
   "metadata": {},
   "outputs": [],
   "source": [
    "import pandas as pd"
   ]
  },
  {
   "cell_type": "code",
   "execution_count": null,
   "id": "61dc5704-d755-4fe8-a189-3d3d53f36627",
   "metadata": {},
   "outputs": [],
   "source": [
    "df = pd.read_csv('dataset_Facebook.csv')"
   ]
  },
  {
   "cell_type": "code",
   "execution_count": null,
   "id": "f655b271-c074-4ac8-994d-4527fe0e3449",
   "metadata": {},
   "outputs": [],
   "source": [
    "df"
   ]
  },
  {
   "cell_type": "code",
   "execution_count": null,
   "id": "52ba49b2-dd06-4eb7-8dae-87a6b23d86e0",
   "metadata": {},
   "outputs": [],
   "source": [
    "df_subset_1 = df[['like','share']]\n",
    "df_subset_1"
   ]
  },
  {
   "cell_type": "code",
   "execution_count": null,
   "id": "9447220d-aa1b-4eb3-9d33-fb7021ebc770",
   "metadata": {},
   "outputs": [],
   "source": [
    "df_subset_2 = df[['comment','type']]\n",
    "df_subset_2"
   ]
  },
  {
   "cell_type": "code",
   "execution_count": null,
   "id": "c3b5b70c-84fc-4ead-9cb5-3ed5b0542416",
   "metadata": {},
   "outputs": [],
   "source": [
    "merged_data  = pd.merge(df_subset_2, df_subset_1, left_on='comment', right_on= 'like')\n",
    "merged_data"
   ]
  },
  {
   "cell_type": "code",
   "execution_count": null,
   "id": "2c957931-bbb5-4cee-ad5d-e6736f80f391",
   "metadata": {},
   "outputs": [],
   "source": [
    "# Example of merge\n",
    "data1 = {\n",
    "'key': ['K0', 'K1', 'K2', 'K3'],\n",
    "'Name':['Jai', 'Prince', 'Gaurav', 'Anuj'],\n",
    "'Age':[27, 24, 22, 32],}\n",
    "data2 = {\n",
    "'key': ['K0', 'K1', 'K2', 'K3'],\n",
    "'Address':['Nagpur', 'Kanpur', 'Allahabad', 'Delhi'],\n",
    "'Qualification':['Btech', 'B.A', 'Bcom', 'BCA']}\n",
    "\n",
    "data1 = pd.DataFrame(data1)\n",
    "data2 = pd.DataFrame(data2)\n",
    "\n",
    "# print result\n",
    "res = pd.merge(data1, data2, on='key')\n",
    "res"
   ]
  },
  {
   "cell_type": "code",
   "execution_count": null,
   "id": "58a1e8e1-868c-46a6-981f-cc2fe37a934a",
   "metadata": {},
   "outputs": [],
   "source": [
    "merged_data.sort_values(by=['like'],ascending=False)"
   ]
  },
  {
   "cell_type": "code",
   "execution_count": null,
   "id": "1e80930b-15ff-4f6a-963b-434f1d4ac3b6",
   "metadata": {},
   "outputs": [],
   "source": [
    "merged_data.sort_values(by=['share'],ascending=False)"
   ]
  },
  {
   "cell_type": "code",
   "execution_count": null,
   "id": "f9224274-975f-4e52-8671-2c371088fc50",
   "metadata": {},
   "outputs": [],
   "source": [
    "merged_data.transpose()"
   ]
  },
  {
   "cell_type": "code",
   "execution_count": null,
   "id": "78db0bac-8afe-42c1-9286-0c289c555a5f",
   "metadata": {},
   "outputs": [],
   "source": [
    "df"
   ]
  },
  {
   "cell_type": "code",
   "execution_count": null,
   "id": "90cc63db-bbf0-4f62-8571-5d1929843b2e",
   "metadata": {},
   "outputs": [],
   "source": [
    "df.type.unique()"
   ]
  },
  {
   "cell_type": "code",
   "execution_count": null,
   "id": "2c8e7535-646a-4b93-b9d9-13467aefb3e4",
   "metadata": {},
   "outputs": [],
   "source": [
    "# Reshape\n",
    "pd.melt(df, id_vars =['type'], value_vars =['comment'])"
   ]
  }
 ],
 "metadata": {
  "kernelspec": {
   "display_name": "Python 3 (ipykernel)",
   "language": "python",
   "name": "python3"
  },
  "language_info": {
   "codemirror_mode": {
    "name": "ipython",
    "version": 3
   },
   "file_extension": ".py",
   "mimetype": "text/x-python",
   "name": "python",
   "nbconvert_exporter": "python",
   "pygments_lexer": "ipython3",
   "version": "3.12.6"
  }
 },
 "nbformat": 4,
 "nbformat_minor": 5
}
