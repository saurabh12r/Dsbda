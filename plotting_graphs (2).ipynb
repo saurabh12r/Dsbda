{
 "cells": [
  {
   "cell_type": "code",
   "execution_count": null,
   "id": "21744c94-0201-486b-908f-73e424d99b7f",
   "metadata": {},
   "outputs": [],
   "source": [
    "#. Visualize the data using Python libraries matplotlib, seaborn by plotting the graphs  Use dataset : Air quality and Heart Diseases\n"
   ]
  },
  {
   "cell_type": "code",
   "execution_count": 2,
   "id": "aed429c1-7cba-46ee-aec8-c713c080dfcc",
   "metadata": {},
   "outputs": [],
   "source": [
    "import matplotlib.pyplot as plt\n",
    "import seaborn as sns\n",
    "import numpy as np\n",
    "import pandas as pd"
   ]
  },
  {
   "cell_type": "code",
   "execution_count": 3,
   "id": "8c77091b-7fb7-4f7f-89c1-2bfe2c23b56e",
   "metadata": {},
   "outputs": [],
   "source": [
    "df= pd.read_csv('heartdisease.csv')"
   ]
  },
  {
   "cell_type": "code",
   "execution_count": null,
   "id": "2e2a2e78-65ff-4577-892c-4c98639a9fd5",
   "metadata": {},
   "outputs": [],
   "source": [
    "df.head(5)"
   ]
  },
  {
   "cell_type": "code",
   "execution_count": null,
   "id": "bc3a1f41-39f4-41ae-ba9a-04d4b166c916",
   "metadata": {},
   "outputs": [],
   "source": [
    "sns.barplot(x='age', y='thalach', data = df)"
   ]
  },
  {
   "cell_type": "code",
   "execution_count": null,
   "id": "559a83c5-24a3-4a8b-a6e5-b4fb2e2db6fc",
   "metadata": {},
   "outputs": [],
   "source": [
    "sns.scatterplot(x='age', y='thalach', data = df)"
   ]
  },
  {
   "cell_type": "code",
   "execution_count": null,
   "id": "4ff0feb9-8113-487d-8339-577aa52b05e0",
   "metadata": {},
   "outputs": [],
   "source": [
    "sns.lineplot(x='chol', y='age', data = df)"
   ]
  },
  {
   "cell_type": "code",
   "execution_count": null,
   "id": "0ff881dd-a250-47ee-9d2a-16abce2a9227",
   "metadata": {},
   "outputs": [],
   "source": [
    "plt.figure(figsize=(12, 12))  \n",
    "sns.pairplot(df, hue='sex', palette='Blues')  "
   ]
  },
  {
   "cell_type": "code",
   "execution_count": null,
   "id": "b0c5106f-8371-41e9-ad3c-f8f60086be18",
   "metadata": {},
   "outputs": [],
   "source": [
    "sns.displot(df['thalach'])"
   ]
  },
  {
   "cell_type": "code",
   "execution_count": null,
   "id": "9bc38a63-4637-4e0f-9db2-bb7e1c8165f3",
   "metadata": {},
   "outputs": [],
   "source": [
    "plt.scatter(df['thalach'], df['age'])\n",
    "plt.show()"
   ]
  },
  {
   "cell_type": "code",
   "execution_count": null,
   "id": "01269d57-9b04-4553-8f7b-e66630180e8e",
   "metadata": {},
   "outputs": [],
   "source": [
    "cp_df = pd.DataFrame(df['cp'].value_counts())\n",
    "cp_df"
   ]
  },
  {
   "cell_type": "code",
   "execution_count": null,
   "id": "1d103e44-aba6-4bea-bf99-47684c84d036",
   "metadata": {},
   "outputs": [],
   "source": [
    "cp_df.columns = ['main']"
   ]
  },
  {
   "cell_type": "code",
   "execution_count": null,
   "id": "e4c24ca5-0c74-4fa8-96b5-923a3d476da3",
   "metadata": {},
   "outputs": [],
   "source": [
    "plt.pie(cp_df['main'], labels = cp_df.index)\n",
    "plt.show()"
   ]
  },
  {
   "cell_type": "code",
   "execution_count": null,
   "id": "6a139ffd-76c7-4fa4-bb6f-ae898a413b5f",
   "metadata": {},
   "outputs": [],
   "source": [
    "plt.bar(cp_df.index, cp_df['main'])\n",
    "plt.show()"
   ]
  }
 ],
 "metadata": {
  "kernelspec": {
   "display_name": "Python 3 (ipykernel)",
   "language": "python",
   "name": "python3"
  },
  "language_info": {
   "codemirror_mode": {
    "name": "ipython",
    "version": 3
   },
   "file_extension": ".py",
   "mimetype": "text/x-python",
   "name": "python",
   "nbconvert_exporter": "python",
   "pygments_lexer": "ipython3",
   "version": "3.12.7"
  }
 },
 "nbformat": 4,
 "nbformat_minor": 5
}
